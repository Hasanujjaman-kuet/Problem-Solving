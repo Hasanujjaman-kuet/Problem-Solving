{
 "cells": [
  {
   "cell_type": "code",
   "execution_count": 1,
   "metadata": {},
   "outputs": [],
   "source": [
    "# Online Banking System\n",
    "# Accunts: Create Account, Close Account, Pin Cahnge, balance check\n",
    "# Transaction: Deposit, Withdraw, Transfer"
   ]
  },
  {
   "cell_type": "code",
   "execution_count": 76,
   "metadata": {},
   "outputs": [],
   "source": [
    "bankdb = dict()\n",
    "init_acc = 10000"
   ]
  },
  {
   "cell_type": "code",
   "execution_count": 75,
   "metadata": {},
   "outputs": [],
   "source": [
    "class Account:\n",
    "    \n",
    "    bankname = 'TBA'\n",
    "    def __init__(self, name: str, age: int, email: str, ph: str, address: str) -> None:\n",
    "        self.name = name\n",
    "        self.age = age\n",
    "        self.email = email.replace(' ', '')\n",
    "        self.ph = ph\n",
    "        self.addr = address\n",
    "    \n",
    "    # Accounts\n",
    "    def validated(self)-> True:\n",
    "        namevalid = True if self.name.replace(' ', '').isalpha() and len(self.name)>=5 and len(self.name)<=30 else False\n",
    "        agevalid = True if (self.age >= 18 and self.age <= 60) else False\n",
    "        emailvalid = True if self.email.endswith(\"@gmail.com\") else False\n",
    "        phvalid  = True if (self.ph.isdigit() and len(self.ph) == 11) else False\n",
    "        return all([namevalid, agevalid, emailvalid, phvalid])\n",
    "    \n",
    "    def create_account(self):\n",
    "        if self.validated():\n",
    "            global bankdb, init_acc\n",
    "            self.pin = self.ph[-4:]\n",
    "            self.balance = 0.0\n",
    "            self.active = True\n",
    "            init_acc += 1\n",
    "            bankdb[init_acc] = self\n",
    "            return init_acc\n",
    "        else:\n",
    "            return False\n",
    "    \n",
    "    # Transaction\n",
    "    def deposit(self, amount:float) -> float:\n",
    "        if self.active:\n",
    "            if amount < 0:\n",
    "                amount = amount*-1\n",
    "            self.balance += amount\n",
    "            return self.balance\n",
    "        return False\n",
    "        \n",
    "\n",
    "\n",
    "    def __repr__(self):\n",
    "        return f'Account(name={self.name})'"
   ]
  },
  {
   "cell_type": "code",
   "execution_count": 77,
   "metadata": {},
   "outputs": [],
   "source": [
    "john = Account(name=\"John Smith\", age=24, email=\"john@gmail.com\", ph='85432568676', address='Dhaka, Bangladesh')"
   ]
  },
  {
   "cell_type": "code",
   "execution_count": 78,
   "metadata": {},
   "outputs": [
    {
     "data": {
      "text/plain": [
       "True"
      ]
     },
     "execution_count": 78,
     "metadata": {},
     "output_type": "execute_result"
    }
   ],
   "source": [
    "john.validated()"
   ]
  },
  {
   "cell_type": "code",
   "execution_count": 79,
   "metadata": {},
   "outputs": [
    {
     "data": {
      "text/plain": [
       "10001"
      ]
     },
     "execution_count": 79,
     "metadata": {},
     "output_type": "execute_result"
    }
   ],
   "source": [
    "john.create_account()"
   ]
  },
  {
   "cell_type": "code",
   "execution_count": 80,
   "metadata": {},
   "outputs": [
    {
     "data": {
      "text/plain": [
       "{10001: Account(name=John Smith)}"
      ]
     },
     "execution_count": 80,
     "metadata": {},
     "output_type": "execute_result"
    }
   ],
   "source": [
    "bankdb"
   ]
  },
  {
   "cell_type": "code",
   "execution_count": 83,
   "metadata": {},
   "outputs": [
    {
     "data": {
      "text/plain": [
       "9000.0"
      ]
     },
     "execution_count": 83,
     "metadata": {},
     "output_type": "execute_result"
    }
   ],
   "source": [
    "bankdb[10001].balance"
   ]
  },
  {
   "cell_type": "code",
   "execution_count": 82,
   "metadata": {},
   "outputs": [
    {
     "data": {
      "text/plain": [
       "9000.0"
      ]
     },
     "execution_count": 82,
     "metadata": {},
     "output_type": "execute_result"
    }
   ],
   "source": [
    "bankdb[10001].deposit(-9000)"
   ]
  },
  {
   "cell_type": "code",
   "execution_count": 63,
   "metadata": {},
   "outputs": [
    {
     "data": {
      "text/plain": [
       "10002"
      ]
     },
     "execution_count": 63,
     "metadata": {},
     "output_type": "execute_result"
    }
   ],
   "source": [
    "name = input()\n",
    "john = Account(name=name, age=24, email=\"john@gmail.com\", ph='85432568676', address='Dhaka, Bangladesh')\n",
    "john.create_account()"
   ]
  }
 ],
 "metadata": {
  "kernelspec": {
   "display_name": "Python 3.10.2 64-bit",
   "language": "python",
   "name": "python3"
  },
  "language_info": {
   "codemirror_mode": {
    "name": "ipython",
    "version": 3
   },
   "file_extension": ".py",
   "mimetype": "text/x-python",
   "name": "python",
   "nbconvert_exporter": "python",
   "pygments_lexer": "ipython3",
   "version": "3.10.2"
  },
  "orig_nbformat": 4,
  "vscode": {
   "interpreter": {
    "hash": "369f2c481f4da34e4445cda3fffd2e751bd1c4d706f27375911949ba6bb62e1c"
   }
  }
 },
 "nbformat": 4,
 "nbformat_minor": 2
}
