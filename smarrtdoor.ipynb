{
 "cells": [
  {
   "cell_type": "code",
   "execution_count": null,
   "metadata": {},
   "outputs": [],
   "source": [
    "# Smart Door Program\n",
    "# password = 'open@2022', security_question='Favourite Color?', answer='black'\n",
    "# it will take password\n",
    "# then it will check password, if matched door will be opening\n",
    "# if the password is wrong then it will say worng Password Trye again\n",
    "# it will again take password an will follow the same\n",
    "# the max try is 3, after maxtry the program will ask for security answer\n",
    "# if security answer matches then help him to reset the password\n",
    "# if answer is wrong the say door locked you are a robber"
   ]
  },
  {
   "cell_type": "code",
   "execution_count": 2,
   "metadata": {},
   "outputs": [],
   "source": [
    "password_org = 'open@2022'\n",
    "security_question='Favourite Color?'\n",
    "answer='black'"
   ]
  },
  {
   "cell_type": "code",
   "execution_count": 6,
   "metadata": {},
   "outputs": [
    {
     "name": "stdout",
     "output_type": "stream",
     "text": [
      "Wrong Password Try again!\n",
      "Wrong Password Try again!\n",
      "Password Changed Successfully!\n",
      "Welcome!\n",
      "Door is opeing...\n"
     ]
    }
   ],
   "source": [
    "maxtry = 3\n",
    "curr_try = 0\n",
    "while True:\n",
    "    password = input(\"Enter Password: \")\n",
    "    if password == password_org:\n",
    "        print(\"Welcome!\\nDoor is opeing...\")\n",
    "        break\n",
    "    else:\n",
    "        curr_try += 1\n",
    "        if curr_try == maxtry:\n",
    "            answer_given = input(security_question)\n",
    "            if answer_given == answer:\n",
    "                while True:\n",
    "                    new_password = input(\"New Password: \")\n",
    "                    confirm_password = input(\"Confirm Password: \")\n",
    "                    if new_password == confirm_password:\n",
    "                        password_org = new_password\n",
    "                        print(\"Password Changed Successfully!\")\n",
    "                        break\n",
    "                    else:\n",
    "                        print(\"password not matched with new password!, Try again\")\n",
    "            else:\n",
    "                print(\"Door locked!\")\n",
    "                break\n",
    "        else:\n",
    "            print(\"Wrong Password Try again!\")"
   ]
  },
  {
   "cell_type": "code",
   "execution_count": null,
   "metadata": {},
   "outputs": [],
   "source": []
  }
 ],
 "metadata": {
  "kernelspec": {
   "display_name": "Python 3.10.2 64-bit",
   "language": "python",
   "name": "python3"
  },
  "language_info": {
   "codemirror_mode": {
    "name": "ipython",
    "version": 3
   },
   "file_extension": ".py",
   "mimetype": "text/x-python",
   "name": "python",
   "nbconvert_exporter": "python",
   "pygments_lexer": "ipython3",
   "version": "3.10.2"
  },
  "orig_nbformat": 4,
  "vscode": {
   "interpreter": {
    "hash": "369f2c481f4da34e4445cda3fffd2e751bd1c4d706f27375911949ba6bb62e1c"
   }
  }
 },
 "nbformat": 4,
 "nbformat_minor": 2
}
